{
  "nbformat": 4,
  "nbformat_minor": 0,
  "metadata": {
    "colab": {
      "provenance": []
    },
    "kernelspec": {
      "name": "python3",
      "display_name": "Python 3"
    },
    "language_info": {
      "name": "python"
    }
  },
  "cells": [
    {
      "cell_type": "code",
      "execution_count": null,
      "metadata": {
        "id": "SD9A4NRdpBZT"
      },
      "outputs": [],
      "source": [
        "# 📌 Calculadora Colaborativa en Jupyter Notebook\n",
        "\n",
        "print(\"Bienvenido a la calculadora colaborativa\")\n",
        "\n",
        "# Aquí se agregarán las funciones de los estudiantes"
      ]
    }
  ]
}