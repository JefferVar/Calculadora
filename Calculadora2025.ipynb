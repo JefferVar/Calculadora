{
  "nbformat": 4,
  "nbformat_minor": 0,
  "metadata": {
    "colab": {
      "provenance": []
    },
    "kernelspec": {
      "name": "python3",
      "display_name": "Python 3"
    },
    "language_info": {
      "name": "python"
    }
  },
  "cells": [
    {
      "cell_type": "code",
      "execution_count": null,
      "metadata": {
        "id": "SD9A4NRdpBZT"
      },
      "outputs": [],
      "source": [
        "# 📌 Calculadora Colaborativa en Jupyter Notebook\n",
        "\n",
        "print(\"Bienvenido a la calculadora colaborativa\")\n",
        "\n",
        "# Aquí se agregarán las funciones de los estudiantes"
      ]
    },
    {
      "cell_type": "code",
      "source": [
        "# Función de suma (Bryan Torres)\n",
        "def suma(a, b):\n",
        "    return a + b"
      ],
      "metadata": {
        "id": "8clvBK3Nqsw9"
      },
      "execution_count": null,
      "outputs": []
    }
  ]
}